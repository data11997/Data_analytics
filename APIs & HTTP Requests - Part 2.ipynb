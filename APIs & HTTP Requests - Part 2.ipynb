{
 "cells": [
  {
   "cell_type": "markdown",
   "id": "6687a5e7-1248-4277-ae65-bc75d4701d85",
   "metadata": {},
   "source": [
    "# APIs & HTTP Requests - Part 2\n",
    "\n",
    "In this lesson, we will discuss the HTTP protocol using the Requests Library a popular method for dealing with the HTTP protocol in Python\n",
    "we will also review Python library requests for Working with the HTTP protocols.\n",
    "We will provide an overview of Get Requests and Post Requests\n",
    "\n",
    "Let’s review the Request Module in Python.\n",
    "This is one of several libraries including: httplib, urllib, that can work with the HTTP\n",
    "protocol.\n",
    "\n",
    "Requests is a python Library that allows you to send HTTP/1.1 requests easily. We can import the library as follows:\n",
    "You can make a GET request via the method get to www.ibm.com:\n",
    "We have the response object ’r’ , this has information about the request, like\n",
    "the status of the request. \n",
    "We can view the status code using the attribute status_code,\n",
    "which is 200 for OK.\n",
    "You can view the request headers:\n",
    "You can view the request body in the following line. As there is no body for a GET request,\n",
    "we get a None.\n",
    "You can view the HTTP response header using the attribute headers. This returns\n",
    "a python dictionary of HTTP response headers. We can look at the dictionary values.\n",
    "We can obtain the date the request was sent by using the key Date.\n",
    "The key Content-Type indicates the type of data.\n",
    "Using the response object ‘r’ , we can also check the encoding:\n",
    "As the Content-Type is text/html, we can use the attribute text to display\n",
    "the HTML in the body. We can review the first 100 characters. You can also download other content,\n",
    "You can use the GET method to modify the results of your query. For example, retrieving data from an API. \n",
    "A simple HTTP Request & Response Service.\n",
    "We send a GET request to the server. Like before, we have the Base URL in the Route; \n",
    "we append /get. This indicates we would like to preform a GET request. This is demonstrated in the following table:\n",
    "After GET is requested we have the query string. This is a part of a uniform resource locator (URL) and this sends other information to the web server.\n",
    "The start of the query is a ?, followed by a series of parameter and value pairs,\n",
    "as shown below.\n",
    "The first parameter name is ”name” and the value is ”Joseph.”\n",
    "The second parameter name is ”ID” and the Value is ”123.”\n",
    "Each pair, parameter, and value is separated by an equal sign, ”=.” The series of\n",
    "pairs is separated by the ampersand, ”&.”\n",
    "\n",
    "Let’s complete an example in python.\n",
    "We have the Base URL with GET appended to the end.\n",
    "To create a Query string, we use the dictionary payload. The keys are the parameter names,\n",
    "and the values are the value of the Query string.\n",
    "Then, we pass the dictionary payload to the params parameter of the get() function.\n",
    "We can print out the URL and see the name and values.\n",
    "We can see the request body. As the info is sent in the URL, the body has a value of None.\n",
    "We can print out the status code.\n",
    "We can view the response as text:\n",
    "We can look at the key 'Content-Type’ to look at the content type.\n",
    "As the content 'Content-Type' is in the JSAON, we format it using the method json() . It\n",
    "returns a Python dict:\n",
    "The key 'args' has the name and values for the  query string.\n",
    "Like a GET request a POST request is used to send data to a server, but the POST request\n",
    "sends the data in a request body, not the url.\n",
    "In order to send the Post Request in the URL, we change the route to POST: This endpoint\n",
    "will expect data and it is a convenient way to configure an HTTP request to send data to a server.\n",
    "We have The Payload dictionary.\n",
    "To make a POST request, we use the post() function. The variable payload is passed to the\n",
    "parameter data :\n",
    "Comparing the URL using the attribute url from the response object of the GET and POST request,\n",
    "\n",
    "\n",
    "we see the POST request has no name or value pairs in it’s url.\n",
    "We can compare the POST and GET request body. We see only the POST request has\n",
    "a body:\n",
    "We can view the key form to get the payload."
   ]
  },
  {
   "cell_type": "code",
   "execution_count": 10,
   "id": "d2c56b6a-7c2a-42e9-a86a-47d3976f22ba",
   "metadata": {},
   "outputs": [
    {
     "name": "stdout",
     "output_type": "stream",
     "text": [
      "{'User-Agent': 'python-requests/2.31.0', 'Accept-Encoding': 'gzip, deflate, br, zstd', 'Accept': '*/*', 'Connection': 'keep-alive', 'Cookie': '_abck=56340D77A143A3FA1880C6CCF47EAAD6~-1~YAAQRl+MT0In+DSOAQAAYQ/jQgt3x2/OqKNhphNPCEnWlxzFQ/vdf724j02wOrbVpOBzjU65yp51vlK31EBscezbhnN0+haDU7lLAinG9QR7QeXegA8b64zcT/KiODV3++Job8IqUVeVZy+BiBNKHsHcLvKCEhfYnYoCWcoBU9VO9TPZEQMwPxt6nQiid7dCyVRigMaU3fI3a7JOjOu54qCHD4ENf+NeVxyoqVLxyNop4QywEp/f6IY9Y2RG4LaKoJiae25ow8I73bWP22uBMIoNnFMjDU4s9XrrU4gPHDm87WrJSCzNKNLZa49uGzE37xQRBFiKs3Ye5DSmsGH9wP0ePse4jmCUVihIjLvfo3URO2r/KLk=~-1~-1~-1; bm_sz=B9B63112C2318A81EDC473767696FD4C~YAAQRl+MT0Mn+DSOAQAAYQ/jQhcZI94IqqHu7wLJmlCdMf8efGM1HaNSKG4vdOltiYfB7EzIiz/cWFkx73G6HmKOs1Yrc3RJDW+bfQ6p0mxnXM09FbdXx9h27v0gRkLxXjIXVTvGn2ycFsDgAM1L/wRigML+xmigBdOdkPf6sniXTf4zzB3VJ9a/cFYcR5j8OTPkFNbbrL/m8a5U1L9Y5V6g4Vb8yua9Mi+dObLkoyqnOHSok/eqtxSO0844Ee/MxdWtHRTG01oRpnOnyrai1nfDAb/Acj+paAVaB4AFyJf3+zMt/Grxtf+w3mPG70VCl6ZgAtQaPHrxgWgIR0wxz8FesAtINTFLltmw~4474161~4408902'}\n"
     ]
    }
   ],
   "source": [
    "# HTTP using the Request Library in Python a popular method of dealing with HTTP protocols in Python\n",
    "# Importing the library:\n",
    "import requests\n",
    "\n",
    "# Defining the URL:\n",
    "url=\"https://www.ibm.com/\"\n",
    "\n",
    "# Sending the Request and storing the Response in the variable r:\n",
    "r= requests.get(url)\n",
    "\n",
    "# Checking the status code:\n",
    "r.status_code == 200\n",
    "\n",
    "# This line attempts to access the headers of the request sent to the website.\n",
    "# headers are essentially lines of information included in the request that \n",
    "# provide details about the request itself.\n",
    "print(r.request.headers)\n",
    "\n"
   ]
  },
  {
   "cell_type": "code",
   "execution_count": null,
   "id": "f3e7b2f3-6a32-4ef7-9057-64a033205532",
   "metadata": {},
   "outputs": [],
   "source": [
    "# To access the content of the (body) of the response from the website, you can use\n",
    "# the .text attribute of the response object (r) in the code\n",
    "\n",
    "import requests\n",
    "url = \"https://www.ibm.com/\"\n",
    "r = requests.get(url)\n",
    "\n",
    "# Check the status code (should be 200 for success)\n",
    "if r.status_code == 200:\n",
    "    # Access the response body (HTML content in this case)\n",
    "    content = r.text\n",
    "print(content) # This will print the HTML content of the IBM webssite\n",
    "else:\n",
    "print(\"Error: Could not access the website. Status code:\", r.status_code)\n",
    "\n",
    "\n"
   ]
  },
  {
   "cell_type": "code",
   "execution_count": null,
   "id": "05a4bb14-942a-4225-b6d5-f25acb638177",
   "metadata": {},
   "outputs": [],
   "source": [
    "import requests\n",
    "\n",
    "url = \"https://www.ibm.com/\"\n",
    "r = requests.get(url)\n",
    "\n",
    "# Check the status code (should be 200 for success)\n",
    "if r.status_code == 200:\n",
    "  # Access the response body (HTML content in this case)\n",
    "  content = r.text\n",
    "  print(content)  # This will print the HTML content of the IBM website\n",
    "else:\n",
    "  print(\"Error: Could not access the website. Status code:\", r.status_code)"
   ]
  },
  {
   "cell_type": "code",
   "execution_count": null,
   "id": "e95ee526-65d6-4788-8723-5bfc23dc4556",
   "metadata": {},
   "outputs": [],
   "source": []
  }
 ],
 "metadata": {
  "kernelspec": {
   "display_name": "Python 3 (ipykernel)",
   "language": "python",
   "name": "python3"
  },
  "language_info": {
   "codemirror_mode": {
    "name": "ipython",
    "version": 3
   },
   "file_extension": ".py",
   "mimetype": "text/x-python",
   "name": "python",
   "nbconvert_exporter": "python",
   "pygments_lexer": "ipython3",
   "version": "3.11.7"
  }
 },
 "nbformat": 4,
 "nbformat_minor": 5
}
